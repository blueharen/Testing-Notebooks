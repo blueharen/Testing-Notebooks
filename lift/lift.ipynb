{
 "cells": [
  {
   "cell_type": "code",
   "execution_count": 1,
   "metadata": {
    "code_folding": []
   },
   "outputs": [],
   "source": [
    "#comment to collapse cell. To use: go to http://localhost:8888/nbextensions?nbextension=zenmode/main and select Codefolding\n",
    "from tablemaker import *\n",
    "#Includes functions make_table, populate_table, and make_file\n",
    "\n",
    "from IPython.display import display\n",
    "from ipywidgets import widgets"
   ]
  },
  {
   "cell_type": "code",
   "execution_count": 2,
   "metadata": {
    "code_folding": []
   },
   "outputs": [
    {
     "name": "stdout",
     "output_type": "stream",
     "text": [
      "Select Which Group Worked\n"
     ]
    },
    {
     "data": {
      "application/vnd.jupyter.widget-view+json": {
       "model_id": "44838eb57d6d4dcfa7e0687ab32fd68e",
       "version_major": 2,
       "version_minor": 0
      },
      "text/plain": [
       "HBox(children=(Button(description='Chest', style=ButtonStyle()), Button(description='Chest 2', style=ButtonSty…"
      ]
     },
     "metadata": {},
     "output_type": "display_data"
    },
    {
     "name": "stdout",
     "output_type": "stream",
     "text": [
      "Manually add exercises below\n"
     ]
    },
    {
     "data": {
      "application/vnd.jupyter.widget-view+json": {
       "model_id": "5da04e95fc7148929cecfc6179e3ffd9",
       "version_major": 2,
       "version_minor": 0
      },
      "text/plain": [
       "HBox(children=(Button(description='Bench', style=ButtonStyle()), Button(description='Deadlift', style=ButtonSt…"
      ]
     },
     "metadata": {},
     "output_type": "display_data"
    },
    {
     "data": {
      "application/vnd.jupyter.widget-view+json": {
       "model_id": "a6d6c2fcdae54b1cb64560d091db5ef9",
       "version_major": 2,
       "version_minor": 0
      },
      "text/plain": [
       "HBox(children=(Button(description='Overhead Press', style=ButtonStyle()), Button(description='Pullups', style=…"
      ]
     },
     "metadata": {},
     "output_type": "display_data"
    },
    {
     "data": {
      "application/vnd.jupyter.widget-view+json": {
       "model_id": "ac0da8daf0b04f7aac818263338cd67c",
       "version_major": 2,
       "version_minor": 0
      },
      "text/plain": [
       "HBox(children=(Button(description='Dips', style=ButtonStyle()), Button(description='Rows', style=ButtonStyle()…"
      ]
     },
     "metadata": {},
     "output_type": "display_data"
    },
    {
     "data": {
      "application/vnd.jupyter.widget-view+json": {
       "model_id": "54da2d96d65d4a5da6bad7ea064d7bae",
       "version_major": 2,
       "version_minor": 0
      },
      "text/plain": [
       "HBox(children=(Button(description='Incline DB Press', style=ButtonStyle()), Button(description='Lat Pulldowns'…"
      ]
     },
     "metadata": {},
     "output_type": "display_data"
    },
    {
     "name": "stdout",
     "output_type": "stream",
     "text": [
      "Skip Default Exercises? Default=(ON)\n"
     ]
    },
    {
     "data": {
      "application/vnd.jupyter.widget-view+json": {
       "model_id": "b09afc193f6b449ba31ca0371d9c84f2",
       "version_major": 2,
       "version_minor": 0
      },
      "text/plain": [
       "HBox(children=(Button(description='Skip All (ON)', style=ButtonStyle()), Button(description='Skip All (OFF)', …"
      ]
     },
     "metadata": {},
     "output_type": "display_data"
    },
    {
     "name": "stdout",
     "output_type": "stream",
     "text": [
      "Day of Week: c\n",
      "Bench Added to Exercises\n"
     ]
    }
   ],
   "source": [
    "#comment to fold cell.\n",
    "buttonc=widgets.Button(description='Chest')\n",
    "buttonc2 = widgets.Button(description='Chest 2')\n",
    "buttonb = widgets.Button(description='Back')\n",
    "buttonl = widgets.Button(description='Leg')\n",
    "button_skip = widgets.Button(description='Skip All (ON)')\n",
    "button_skip2 = widgets.Button(description='Skip All (OFF)')\n",
    "bench = widgets.Button(description='Bench')\n",
    "dead = widgets.Button(description='Deadlift')\n",
    "squat = widgets.Button(description='Squat')\n",
    "remove_adds = widgets.Button(description=\"Remove All Additions\")\n",
    "ohp = widgets.Button(description='Overhead Press')\n",
    "dip = widgets.Button(description='Dips')\n",
    "inclinedb = widgets.Button(description='Incline DB Press')\n",
    "pullups = widgets.Button(description='Pullups')\n",
    "rows = widgets.Button(description='Rows')\n",
    "latpull = widgets.Button(description='Lat Pulldowns')\n",
    "legpress = widgets.Button(description='Leg Press')\n",
    "legcurl = widgets.Button(description='Leg Curl')\n",
    "calf = widgets.Button(description='Calf Raise')\n",
    "showex = widgets.Button(description='Show Exercise List')\n",
    "\n",
    "exercises_added = []\n",
    "skip_all = True\n",
    "day_of_week = ''\n",
    "\n",
    "def click(b):\n",
    "    global day_of_week\n",
    "    day_of_week = 'c'\n",
    "    print(f'Day of Week: {day_of_week}')\n",
    "\n",
    "def click2(b):\n",
    "    global day_of_week\n",
    "    day_of_week = 'c2'\n",
    "    print(f'Day of Week: {day_of_week}')\n",
    "\n",
    "def click3(b):\n",
    "    global day_of_week\n",
    "    day_of_week = 'b'\n",
    "    print(f'Day of Week: {day_of_week}')\n",
    "\n",
    "def click4(b):\n",
    "    global day_of_week\n",
    "    day_of_week = 'l'\n",
    "    print(f'Day of Week: {day_of_week}')\n",
    "\n",
    "def click5(b):\n",
    "    print('Now Skipping Default Exercises.')\n",
    "    global skip_all\n",
    "    skip_all=True\n",
    "\n",
    "def click6(b):\n",
    "    print('Now Using Default Exercises.')\n",
    "    global skip_all\n",
    "    skip_all=False\n",
    "\n",
    "def click7(b):\n",
    "    print('Bench Added to Exercises')\n",
    "    global exercises_added\n",
    "    exercises_added.append('Bench')\n",
    "\n",
    "def click8(b):\n",
    "    print('Deadlift Added to Exercises')\n",
    "    global exercises_added\n",
    "    exercises_added.append('Deadlift')\n",
    "\n",
    "def click9(b):\n",
    "    print('Squat Added to Exercises')\n",
    "    global exercises_added\n",
    "    exercises_added.append('Squat')\n",
    "\n",
    "def click10(b):\n",
    "    print('Overhead Press Added to Exercises')\n",
    "    global exercises_added\n",
    "    exercises_added.append('OHP')\n",
    "\n",
    "def click11(b):\n",
    "    print('Dips Added to Exercises')\n",
    "    global exercises_added\n",
    "    exercises_added.append('Dips')\n",
    "\n",
    "def click12(b):\n",
    "    print('Incline DB Bench Added to Exercises')\n",
    "    global exercises_added\n",
    "    exercises_added.append('Incline DB Bench')\n",
    "\n",
    "def click13(b):\n",
    "    print('Pullups Added to Exercises')\n",
    "    global exercises_added\n",
    "    exercises_added.append('Pullups')\n",
    "\n",
    "def click14(b):\n",
    "    print('Rows Added to Exercises')\n",
    "    global exercises_added\n",
    "    exercises_added.append('Rows')\n",
    "\n",
    "def click15(b):\n",
    "    print('Lat Pulldowns Added to Exercises')\n",
    "    global exercises_added\n",
    "    exercises_added.append('Lat Pulldowns')\n",
    "\n",
    "def click16(b):\n",
    "    print('Leg Press Added to Exercises')\n",
    "    global exercises_added\n",
    "    exercises_added.append('Leg Press')\n",
    "\n",
    "def click17(b):\n",
    "    print('Leg Curl Added to Exercises')\n",
    "    global exercises_added\n",
    "    exercises_added.append('Leg Curl')\n",
    "\n",
    "def click18(b):\n",
    "    print('Calf Raise Added to Exercises')\n",
    "    global exercises_added\n",
    "    exercises_added.append('Calf Raise')\n",
    "\n",
    "def click19(b):\n",
    "    print(exercises_added)\n",
    "    \n",
    "def remove_added(b):\n",
    "    print('List of Added Exercises is Empty')\n",
    "    global exercises_added\n",
    "    exercises_added = []\n",
    "\n",
    "buttonc.on_click(click)\n",
    "buttonc2.on_click(click2)\n",
    "buttonb.on_click(click3)\n",
    "buttonl.on_click(click4)\n",
    "button_skip.on_click(click5)\n",
    "button_skip2.on_click(click6)\n",
    "bench.on_click(click7)\n",
    "dead.on_click(click8)\n",
    "squat.on_click(click9)\n",
    "ohp.on_click(click10)\n",
    "dip.on_click(click11)\n",
    "inclinedb.on_click(click12)\n",
    "pullups.on_click(click13)\n",
    "rows.on_click(click14)\n",
    "latpull.on_click(click15)\n",
    "legpress.on_click(click16)\n",
    "legcurl.on_click(click17)\n",
    "calf.on_click(click18)\n",
    "showex.on_click(click19)\n",
    "\n",
    "remove_adds.on_click(remove_added)\n",
    "\n",
    "print('Select Which Group Worked')\n",
    "display(widgets.HBox((buttonc, buttonc2, buttonb, buttonl)))\n",
    "print('Manually add exercises below')\n",
    "display(widgets.HBox((bench,dead,squat,remove_adds,showex)))\n",
    "display(widgets.HBox((ohp,pullups,legpress)))\n",
    "display(widgets.HBox((dip,rows,legcurl)))\n",
    "display(widgets.HBox((inclinedb,latpull,calf)))\n",
    "print('Skip Default Exercises? Default=(ON)')\n",
    "display(widgets.HBox((button_skip,button_skip2)))"
   ]
  },
  {
   "cell_type": "code",
   "execution_count": 3,
   "metadata": {},
   "outputs": [
    {
     "name": "stdout",
     "output_type": "stream",
     "text": [
      "Exercise: Bench\n",
      "Number of Sets?5\n",
      "Number of Reps?5\n",
      "Weight?175\n"
     ]
    },
    {
     "data": {
      "text/html": [
       "<div>\n",
       "<style scoped>\n",
       "    .dataframe tbody tr th:only-of-type {\n",
       "        vertical-align: middle;\n",
       "    }\n",
       "\n",
       "    .dataframe tbody tr th {\n",
       "        vertical-align: top;\n",
       "    }\n",
       "\n",
       "    .dataframe thead th {\n",
       "        text-align: right;\n",
       "    }\n",
       "</style>\n",
       "<table border=\"1\" class=\"dataframe\">\n",
       "  <thead>\n",
       "    <tr style=\"text-align: right;\">\n",
       "      <th></th>\n",
       "      <th>date</th>\n",
       "      <th>exercise</th>\n",
       "      <th>num_sets</th>\n",
       "      <th>num_reps</th>\n",
       "      <th>weight</th>\n",
       "    </tr>\n",
       "  </thead>\n",
       "  <tbody>\n",
       "    <tr>\n",
       "      <th>0</th>\n",
       "      <td>08-20-19</td>\n",
       "      <td>Bench</td>\n",
       "      <td>5</td>\n",
       "      <td>5</td>\n",
       "      <td>175</td>\n",
       "    </tr>\n",
       "  </tbody>\n",
       "</table>\n",
       "</div>"
      ],
      "text/plain": [
       "       date exercise  num_sets  num_reps  weight\n",
       "0  08-20-19    Bench         5         5     175"
      ]
     },
     "execution_count": 3,
     "metadata": {},
     "output_type": "execute_result"
    }
   ],
   "source": [
    "df = populate_table(day_of_week, skip_all=skip_all, exercises_added=exercises_added,exercises_skipped=None);df"
   ]
  },
  {
   "cell_type": "code",
   "execution_count": 4,
   "metadata": {},
   "outputs": [],
   "source": [
    "#df is name of table to be added to file\n",
    "make_file(df)"
   ]
  }
 ],
 "metadata": {
  "kernelspec": {
   "display_name": "Python 3",
   "language": "python",
   "name": "python3"
  },
  "language_info": {
   "codemirror_mode": {
    "name": "ipython",
    "version": 3
   },
   "file_extension": ".py",
   "mimetype": "text/x-python",
   "name": "python",
   "nbconvert_exporter": "python",
   "pygments_lexer": "ipython3",
   "version": "3.7.3"
  }
 },
 "nbformat": 4,
 "nbformat_minor": 2
}
