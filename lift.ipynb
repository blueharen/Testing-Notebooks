{
 "cells": [
  {
   "cell_type": "code",
   "execution_count": 1,
   "metadata": {},
   "outputs": [],
   "source": [
    "from datetime import date\n",
    "import pandas as pd\n",
    "import os"
   ]
  },
  {
   "cell_type": "code",
   "execution_count": 2,
   "metadata": {},
   "outputs": [],
   "source": [
    "def make_table(exercise, num_sets, num_reps, weight, data=None, fail=False, date=date.today().strftime('%m-%d-%y')):\n",
    "    '''\n",
    "    Function to input workout data and output results in pandas DataFrame.\n",
    "    ------------------\n",
    "    exercise : string : name of exercise\n",
    "    num_sets : integer: number of sets\n",
    "    num_reps : integer: number of reps in each set\n",
    "    weight   : integer: weight of lift\n",
    "    \n",
    "    data (optional) : pandas DataFrame : use current DataFrame to add on to\n",
    "    fail (optional) : boolean : use =True if fail on any set\n",
    "    data (optional) : string: uses curernt date in format ` '08-14-19' `\n",
    "    ------------------\n",
    "    If fail=True, you will be asked to input more data, starting with the set you failed on.\n",
    "    '''\n",
    "    set_list = list(range(1,num_sets+1))\n",
    "    df = pd.DataFrame()\n",
    "    \n",
    "    if fail:\n",
    "        x = int(input('fail on which set? '))\n",
    "        num_change = num_sets - x\n",
    "    \n",
    "        for num in range(x-1):\n",
    "            df = df.append([[date, exercise,set_list[num],num_reps,weight]])\n",
    "        \n",
    "        for value in range(5):\n",
    "            \n",
    "            p = str(input('new set? y/n '))\n",
    "            \n",
    "            if p.lower() == 'y':\n",
    "                num_reps=int(input('reps? '))\n",
    "                weight=int(input('weight? '))\n",
    "                df = df.append([[date, exercise, set_list[num+1+value],num_reps,weight]])\n",
    "            \n",
    "            else: break\n",
    "        \n",
    "        df.columns = ['date', 'exercise','set_num','num_reps','weight']    \n",
    "        \n",
    "        return df.reset_index().drop(['index'],axis=1)\n",
    "    \n",
    "    for number in range(num_sets):\n",
    "        df = df.append([[date, exercise,set_list[number],num_reps,weight]])\n",
    "    \n",
    "    df.columns = ['date', 'exercise','set_num','num_reps','weight']\n",
    "\n",
    "    try:\n",
    "        if len(data) != 0:\n",
    "            data = data.append(df)\n",
    "            return data.reset_index().drop(['index'],axis=1)\n",
    "    except TypeError:\n",
    "        pass\n",
    "    \n",
    "    return df.reset_index().drop(['index'],axis=1)"
   ]
  },
  {
   "cell_type": "code",
   "execution_count": 3,
   "metadata": {},
   "outputs": [],
   "source": [
    "df = make_table('b',6,50,950,fail=False,date='08-19-19')"
   ]
  },
  {
   "cell_type": "code",
   "execution_count": 4,
   "metadata": {},
   "outputs": [],
   "source": [
    "name_of_file = 'Lift Numbers.csv'\n",
    "\n",
    "file = open(name_of_file, 'a', newline='')\n",
    "\n",
    "#if file is empty, add header. else, don't\n",
    "if os.path.getsize(name_of_file) == 0:\n",
    "    file.write(df.to_csv(index=False, header=True))\n",
    "else:\n",
    "    file.write(df.to_csv(index=False, header=False))\n",
    "\n",
    "file.close()"
   ]
  }
 ],
 "metadata": {
  "kernelspec": {
   "display_name": "Python 3",
   "language": "python",
   "name": "python3"
  },
  "language_info": {
   "codemirror_mode": {
    "name": "ipython",
    "version": 3
   },
   "file_extension": ".py",
   "mimetype": "text/x-python",
   "name": "python",
   "nbconvert_exporter": "python",
   "pygments_lexer": "ipython3",
   "version": "3.7.3"
  }
 },
 "nbformat": 4,
 "nbformat_minor": 2
}
